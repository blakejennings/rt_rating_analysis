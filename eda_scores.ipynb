{
 "cells": [
  {
   "cell_type": "code",
   "execution_count": 9,
   "metadata": {},
   "outputs": [
    {
     "data": {
      "text/plain": [
       "[Text(0, 0, 'Amazon Prime'),\n",
       " Text(0, 0, 'Amazon'),\n",
       " Text(0, 0, 'iTunes'),\n",
       " Text(0, 0, 'Netflix'),\n",
       " Text(0, 0, 'Vudu')]"
      ]
     },
     "execution_count": 9,
     "metadata": {},
     "output_type": "execute_result"
    },
    {
     "data": {
      "image/png": "[encoded data removed]",
      "text/plain": [
       "<Figure size 432x288 with 1 Axes>"
      ]
     },
     "metadata": {},
     "output_type": "display_data"
    }
   ],
   "source": [
    "import pandas as pd\n",
    "import seaborn as sns\n",
    "import matplotlib.pyplot as plt\n",
    "\n",
    "# Read csv files into pandas dataframes\n",
    "amazon_prime = pd.read_csv(\"./scores/amazon_prime.csv\", header=None, names=[\"amazon_prime\"])\n",
    "amazon = pd.read_csv(\"./scores/amazon.csv\", header=None, names=[\"amazon\"])\n",
    "itunes = pd.read_csv(\"./scores/itunes.csv\", header=None, names=[\"itunes\"])\n",
    "netflix = pd.read_csv(\"./scores/netflix_iw.csv\", header=None, names=[\"netflix\"])\n",
    "vudu = pd.read_csv(\"./scores/vudu.csv\", header=None, names=[\"vudu\"])\n",
    "\n",
    "# Make boxplot of ratings by streaming service\n",
    "ax = sns.boxplot(data=[amazon_prime, amazon, itunes, netflix, vudu])\n",
    "ax.set(title=\"Rotten Tomatoes Rating by Streaming Service\", xlabel='Streaming Service', ylabel='Rotten Tomatoes Rating')\n",
    "ax.set_xticklabels([\"Amazon Prime\", \"Amazon\", \"iTunes\", \"Netflix\", \"Vudu\"])"
   ]
  },
  {
   "cell_type": "code",
   "execution_count": 3,
   "metadata": {},
   "outputs": [
    {
     "data": {
      "text/html": [
       "<div>\n",
       "<style scoped>\n",
       "    .dataframe tbody tr th:only-of-type {\n",
       "        vertical-align: middle;\n",
       "    }\n",
       "\n",
       "    .dataframe tbody tr th {\n",
       "        vertical-align: top;\n",
       "    }\n",
       "\n",
       "    .dataframe thead th {\n",
       "        text-align: right;\n",
       "    }\n",
       "</style>\n",
       "<table border=\"1\" class=\"dataframe\">\n",
       "  <thead>\n",
       "    <tr style=\"text-align: right;\">\n",
       "      <th></th>\n",
       "      <th>title</th>\n",
       "      <th>tomato_score</th>\n",
       "      <th>audience_score</th>\n",
       "      <th>release_date</th>\n",
       "      <th>runtime</th>\n",
       "      <th>rating</th>\n",
       "      <th>genre</th>\n",
       "      <th>cast</th>\n",
       "      <th>studio</th>\n",
       "      <th>director</th>\n",
       "    </tr>\n",
       "  </thead>\n",
       "  <tbody>\n",
       "    <tr>\n",
       "      <th>0</th>\n",
       "      <td>Many Adventures of Winnie the Pooh (1977)</td>\n",
       "      <td>100</td>\n",
       "      <td>88</td>\n",
       "      <td>1977-03-10 16:00:00-08:00</td>\n",
       "      <td>74</td>\n",
       "      <td>G</td>\n",
       "      <td>['Animation', 'Comedy', 'Kids &amp; Family', 'Musi...</td>\n",
       "      <td>['Sterling Holloway', 'Paul Winchell', 'Junius...</td>\n",
       "      <td>Walt Disney Productions</td>\n",
       "      <td>['Wolfgang Reitherman', 'John Lounsbery']</td>\n",
       "    </tr>\n",
       "    <tr>\n",
       "      <th>1</th>\n",
       "      <td>Toy Story 2 (1999)</td>\n",
       "      <td>100</td>\n",
       "      <td>86</td>\n",
       "      <td>1999-11-23 16:00:00-08:00</td>\n",
       "      <td>92</td>\n",
       "      <td>G</td>\n",
       "      <td>['Animation', 'Comedy', 'Kids &amp; Family']</td>\n",
       "      <td>['Tim Allen', 'Joan Cusack', 'Kelsey Grammer',...</td>\n",
       "      <td>Buena Vista Pictures</td>\n",
       "      <td>['John Lasseter']</td>\n",
       "    </tr>\n",
       "    <tr>\n",
       "      <th>2</th>\n",
       "      <td>The Odd Couple (1968)</td>\n",
       "      <td>100</td>\n",
       "      <td>89</td>\n",
       "      <td>1967-12-31 16:00:00-08:00</td>\n",
       "      <td>105</td>\n",
       "      <td>PG</td>\n",
       "      <td>['Classics', 'Comedy', 'Drama']</td>\n",
       "      <td>['Walter Matthau', 'Jack Lemmon', 'Monica Evan...</td>\n",
       "      <td>Paramount Home Video</td>\n",
       "      <td>['Gene Saks']</td>\n",
       "    </tr>\n",
       "    <tr>\n",
       "      <th>3</th>\n",
       "      <td>Old Yeller (1957)</td>\n",
       "      <td>100</td>\n",
       "      <td>79</td>\n",
       "      <td>1957-12-24 16:00:00-08:00</td>\n",
       "      <td>84</td>\n",
       "      <td>G</td>\n",
       "      <td>['Action &amp; Adventure', 'Classics', 'Drama', 'K...</td>\n",
       "      <td>['Dorothy McGuire', 'Tommy Kirk', 'Kevin Corco...</td>\n",
       "      <td>Buena Vista Pictures</td>\n",
       "      <td>['Robert Stevenson']</td>\n",
       "    </tr>\n",
       "    <tr>\n",
       "      <th>4</th>\n",
       "      <td>On a Clear Day You Can See Forever (1970)</td>\n",
       "      <td>100</td>\n",
       "      <td>75</td>\n",
       "      <td>1969-12-31 16:00:00-08:00</td>\n",
       "      <td>129</td>\n",
       "      <td>G</td>\n",
       "      <td>['Classics', 'Comedy', 'Drama', 'Musical &amp; Per...</td>\n",
       "      <td>['Barbra Streisand', 'Yves Montand', 'Bob Newh...</td>\n",
       "      <td>Paramount Pictures</td>\n",
       "      <td>['Vincente Minnelli']</td>\n",
       "    </tr>\n",
       "  </tbody>\n",
       "</table>\n",
       "</div>"
      ],
      "text/plain": [
       "                                       title  tomato_score  audience_score  \\\n",
       "0  Many Adventures of Winnie the Pooh (1977)           100              88   \n",
       "1                         Toy Story 2 (1999)           100              86   \n",
       "2                      The Odd Couple (1968)           100              89   \n",
       "3                          Old Yeller (1957)           100              79   \n",
       "4  On a Clear Day You Can See Forever (1970)           100              75   \n",
       "\n",
       "                release_date  runtime rating  \\\n",
       "0  1977-03-10 16:00:00-08:00       74      G   \n",
       "1  1999-11-23 16:00:00-08:00       92      G   \n",
       "2  1967-12-31 16:00:00-08:00      105     PG   \n",
       "3  1957-12-24 16:00:00-08:00       84      G   \n",
       "4  1969-12-31 16:00:00-08:00      129      G   \n",
       "\n",
       "                                               genre  \\\n",
       "0  ['Animation', 'Comedy', 'Kids & Family', 'Musi...   \n",
       "1           ['Animation', 'Comedy', 'Kids & Family']   \n",
       "2                    ['Classics', 'Comedy', 'Drama']   \n",
       "3  ['Action & Adventure', 'Classics', 'Drama', 'K...   \n",
       "4  ['Classics', 'Comedy', 'Drama', 'Musical & Per...   \n",
       "\n",
       "                                                cast                   studio  \\\n",
       "0  ['Sterling Holloway', 'Paul Winchell', 'Junius...  Walt Disney Productions   \n",
       "1  ['Tim Allen', 'Joan Cusack', 'Kelsey Grammer',...     Buena Vista Pictures   \n",
       "2  ['Walter Matthau', 'Jack Lemmon', 'Monica Evan...     Paramount Home Video   \n",
       "3  ['Dorothy McGuire', 'Tommy Kirk', 'Kevin Corco...     Buena Vista Pictures   \n",
       "4  ['Barbra Streisand', 'Yves Montand', 'Bob Newh...       Paramount Pictures   \n",
       "\n",
       "                                    director  \n",
       "0  ['Wolfgang Reitherman', 'John Lounsbery']  \n",
       "1                          ['John Lasseter']  \n",
       "2                              ['Gene Saks']  \n",
       "3                       ['Robert Stevenson']  \n",
       "4                      ['Vincente Minnelli']  "
      ]
     },
     "execution_count": 3,
     "metadata": {},
     "output_type": "execute_result"
    }
   ],
   "source": [
    "all_scores = pd.read_csv(\"./scores/all_scores.csv\")\n",
    "all_scores.head()"
   ]
  },
  {
   "cell_type": "code",
   "execution_count": 13,
   "metadata": {},
   "outputs": [
    {
     "ename": "TypeError",
     "evalue": "scatter() missing 2 required positional arguments: 'x' and 'y'",
     "output_type": "error",
     "traceback": [
      "\u001b[0;31m---------------------------------------------------------------------------\u001b[0m",
      "\u001b[0;31mTypeError\u001b[0m                                 Traceback (most recent call last)",
      "\u001b[0;32m<ipython-input-13-298a38de78be>\u001b[0m in \u001b[0;36m<module>\u001b[0;34m()\u001b[0m\n\u001b[0;32m----> 1\u001b[0;31m \u001b[0mall_scores\u001b[0m\u001b[0;34m[\u001b[0m\u001b[0;34m[\u001b[0m\u001b[0;34m'tomato_score'\u001b[0m\u001b[0;34m,\u001b[0m \u001b[0;34m'audience_score'\u001b[0m\u001b[0;34m]\u001b[0m\u001b[0;34m]\u001b[0m\u001b[0;34m.\u001b[0m\u001b[0mplot\u001b[0m\u001b[0;34m.\u001b[0m\u001b[0mscatter\u001b[0m\u001b[0;34m(\u001b[0m\u001b[0;34m)\u001b[0m\u001b[0;34m\u001b[0m\u001b[0;34m\u001b[0m\u001b[0m\n\u001b[0m",
      "\u001b[0;31mTypeError\u001b[0m: scatter() missing 2 required positional arguments: 'x' and 'y'"
     ]
    }
   ],
   "source": [
    "all_scores[['tomato_score', 'audience_score']].plot.scatter()"
   ]
  },
  {
   "cell_type": "code",
   "execution_count": null,
   "metadata": {},
   "outputs": [],
   "source": []
  }
 ],
 "metadata": {
  "kernelspec": {
   "display_name": "Python 3",
   "language": "python",
   "name": "python3"
  },
  "language_info": {
   "codemirror_mode": {
    "name": "ipython",
    "version": 3
   },
   "file_extension": ".py",
   "mimetype": "text/x-python",
   "name": "python",
   "nbconvert_exporter": "python",
   "pygments_lexer": "ipython3",
   "version": "3.6.9"
  }
 },
 "nbformat": 4,
 "nbformat_minor": 2
}
